{
 "cells": [
  {
   "cell_type": "markdown",
   "id": "6eb61cc2",
   "metadata": {},
   "source": [
    "# Fantasy Premier League"
   ]
  },
  {
   "cell_type": "code",
   "execution_count": 10,
   "id": "f1266ec6",
   "metadata": {},
   "outputs": [],
   "source": [
    "import numpy as np\n",
    "import pandas as pd\n",
    "import requests\n",
    "import xlsxwriter\n",
    "import math\n",
    "import matplotlib.pyplot as plt"
   ]
  },
  {
   "cell_type": "markdown",
   "id": "903a96c3",
   "metadata": {},
   "source": [
    "\n",
    "### Basic Classes\n",
    "Class structure to hold api data\n",
    " - Player: Class which holds mini-league player data\n",
    " - Mini_League: Class which holds data for the mini league\n",
    " - Gameweek: Each gameweek information"
   ]
  },
  {
   "cell_type": "code",
   "execution_count": 11,
   "id": "70baf8da",
   "metadata": {},
   "outputs": [],
   "source": [
    "class Player:\n",
    "    def __init__(self, name, rank, points, last_rank):\n",
    "        self.name = name\n",
    "        self.rank = int(rank)\n",
    "        self.points = int(points)\n",
    "        self.last_rank = int(last_rank)\n",
    "\n",
    "    def get_rank(self):\n",
    "        return self.rank\n",
    "\n",
    "    def get_name(self):\n",
    "        return self.name\n",
    "\n",
    "    def get_points(self):\n",
    "        return self.points\n",
    "\n",
    "    def __str__(self):\n",
    "        pos = ''\n",
    "        if self.rank == self.last_rank:\n",
    "            pos = 'No Movement'\n",
    "        elif self.rank > self.last_rank:\n",
    "            move = self.rank - self.last_rank\n",
    "            pos = f'Fell down by {move} positions'\n",
    "        else:\n",
    "            move = self.last_rank - self.rank\n",
    "            pos = f'Moved up by {move} positions'\n",
    "        return f'{self.name} with points {self.points} and current rank {self.rank}. {pos}'\n",
    "    \n",
    "class Mini_League:\n",
    "    def __init__(self, name, players):\n",
    "        self.name = name\n",
    "        self.players = players\n",
    "\n",
    "    def getPlayers(self):\n",
    "        return self.players\n",
    "\n",
    "    def __str__(self):\n",
    "        output = self.name + '\\n'\n",
    "        output = output + '-----------------------------------------------------------------------------------' + '\\n'\n",
    "        for player in self.players:\n",
    "            output = output + player.__str__() + '\\n'\n",
    "        output = output + '-----------------------------------------------------------------------------------'\n",
    "        return output\n",
    "    \n",
    "class Gameweek:\n",
    "    def __init__(self, name, avg_score):\n",
    "        self.name = name\n",
    "        self.avg_score = avg_score\n",
    "\n",
    "    def getName(self):\n",
    "        return self.name\n",
    "\n",
    "    def getAverageScore(self):\n",
    "        return self.avg_score"
   ]
  },
  {
   "cell_type": "markdown",
   "id": "cabc66ec",
   "metadata": {},
   "source": [
    "### API calls\n",
    "\n",
    "Fantasy football offers lot of interesting api's to load mini-league information, player details. More information can be found [at](https://medium.com/@frenzelts/fantasy-premier-league-api-endpoints-a-detailed-guide-acbd5598eb19)"
   ]
  },
  {
   "cell_type": "code",
   "execution_count": 12,
   "id": "62a17f75",
   "metadata": {},
   "outputs": [
    {
     "name": "stdout",
     "output_type": "stream",
     "text": [
      "Enter the league code: 59187\n"
     ]
    }
   ],
   "source": [
    "\n",
    "#Get gameweek data\n",
    "def get_static_event_data():\n",
    "    static_url = f'https://fantasy.premierleague.com/api/bootstrap-static/'\n",
    "    static_data = requests.get(static_url).json()\n",
    "    events = static_data['events']\n",
    "    gameweek_data = []\n",
    "    for event in events:\n",
    "        if event['finished'] == True:\n",
    "            gameweek_data.append(Gameweek(event['name'], int(event['average_entry_score'])))\n",
    "    return gameweek_data\n",
    "\n",
    "#Calculate total of average score for all the gameweeks\n",
    "def get_average_score(gameweek_data):\n",
    "    total_average = 0\n",
    "    for i in gameweek_data:\n",
    "        total_average = total_average + i.getAverageScore()\n",
    "    return total_average\n",
    "\n",
    "#Get mini league data\n",
    "def get_classic_league_standings(league_code):\n",
    "    league_standing_api_url = f'https://fantasy.premierleague.com/api/leagues-classic/{league_code}/standings'\n",
    "    league_data = requests.get(league_standing_api_url).json()\n",
    "    league_name = league_data['league']['name']\n",
    "    league_standings = league_data['standings']['results']\n",
    "\n",
    "    players = []\n",
    "    for standing in league_standings:\n",
    "        player_data = Player(standing['entry_name'], standing['rank'], standing['total'], standing['last_rank'])\n",
    "        players.append(player_data)\n",
    "    return Mini_League(league_name, players)\n",
    "\n",
    "league_code = input('Enter the league code: ')\n",
    "league_data = get_classic_league_standings(league_code)"
   ]
  },
  {
   "cell_type": "markdown",
   "id": "80ac51ea",
   "metadata": {},
   "source": [
    "### League standings\n",
    "Horizontal bar chart showing mini-league standings"
   ]
  },
  {
   "cell_type": "code",
   "execution_count": 21,
   "id": "d0e05dca",
   "metadata": {},
   "outputs": [
    {
     "data": {
      "image/png": "[encoded data removed]",
      "text/plain": [
       "<Figure size 432x288 with 1 Axes>"
      ]
     },
     "metadata": {},
     "output_type": "display_data"
    }
   ],
   "source": [
    "def get_horizontal_bar_chart(league):\n",
    "    players = league.getPlayers()\n",
    "    names = []\n",
    "    points = []\n",
    "    colors = []\n",
    "    average_score = get_average_score(get_static_event_data())\n",
    "    for player in players:\n",
    "        point = player.get_points()\n",
    "        names.append(player.get_name())\n",
    "        points.append(point)\n",
    "        if point > average_score:\n",
    "            colors.append('green')\n",
    "        elif point < average_score:\n",
    "            colors.append('red')\n",
    "        else:\n",
    "            colors.append('blue')\n",
    "    \n",
    "    y_pos = np.arange(len(points))\n",
    "    fig, ax = plt.subplots()\n",
    "    plt.style.use('dark_background')\n",
    "    ax.axvline(average_score, color='blue', linewidth=2)\n",
    "    plt.barh(y_pos, points, color = colors)\n",
    "    plt.yticks(y_pos, names)\n",
    "    plt.show()\n",
    "\n",
    "get_horizontal_bar_chart(league_data)"
   ]
  },
  {
   "cell_type": "code",
   "execution_count": null,
   "id": "8e3c48b5",
   "metadata": {},
   "outputs": [],
   "source": []
  }
 ],
 "metadata": {
  "kernelspec": {
   "display_name": "Python 3",
   "language": "python",
   "name": "python3"
  },
  "language_info": {
   "codemirror_mode": {
    "name": "ipython",
    "version": 3
   },
   "file_extension": ".py",
   "mimetype": "text/x-python",
   "name": "python",
   "nbconvert_exporter": "python",
   "pygments_lexer": "ipython3",
   "version": "3.9.4"
  }
 },
 "nbformat": 4,
 "nbformat_minor": 5
}
